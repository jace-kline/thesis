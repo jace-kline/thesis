{
 "cells": [
  {
   "cell_type": "code",
   "execution_count": 10,
   "metadata": {},
   "outputs": [],
   "source": [
    "import setup # resolve path to 'src'\n",
    "from typing import Optional\n",
    "from build_parse import *"
   ]
  },
  {
   "cell_type": "code",
   "execution_count": 11,
   "metadata": {},
   "outputs": [],
   "source": [
    "progs = [ CoreutilsProgram(progname) for progname in COREUTILS_PROG_NAMES ]\n",
    "\n",
    "# Define the build options to test for each program\n",
    "debug_opts = BuildOptions(debug=True, strip=False, optimization=0)\n",
    "standard_opts = BuildOptions(debug=False, strip=False, optimization=0)\n",
    "strip_opts = BuildOptions(debug=False, strip=True, optimization=0)\n",
    "\n",
    "opts_sets = (debug_opts, standard_opts, strip_opts)\n",
    "\n",
    "# Get the parser functions\n",
    "dwarf_parser = get_parser(\"dwarf\")\n",
    "ghidra_parser = get_parser(\"ghidra\")\n",
    "\n",
    "# ensure that each program is built according to all variations of build options\n",
    "for prog in progs:\n",
    "    for opts in (debug_opts, standard_opts, strip_opts):\n",
    "        assert(prog.valid_build(opts))"
   ]
  },
  {
   "cell_type": "code",
   "execution_count": 12,
   "metadata": {},
   "outputs": [],
   "source": [
    "\n",
    "# the filename format for saving parsed ProgramInfo pickle objects\n",
    "def mangle_proginfo_save_name(parsername: str, prog: Program, opts: BuildOptions) -> str:\n",
    "    return \"{}.{}.pickle\".format(prog.get_binary_name(opts), parsername)\n",
    "\n",
    "def get_proginfo_save_path(parsername: str, prog: Program, opts: BuildOptions) -> Path:\n",
    "    return PICKLE_CACHE_DIR.joinpath(mangle_proginfo_save_name(parsername, prog, opts))\n",
    "\n",
    "# the filename format for saving UnoptimizedProgramInfoCompare2 objects\n",
    "def mangle_cmp_save_name(prog: Program, opts: BuildOptions) -> str:\n",
    "    return \"{}.cmp.pickle\".format(prog.get_binary_name(opts))\n",
    "\n",
    "def get_cmp_save_path(prog: Program, opts: BuildOptions) -> Path:\n",
    "    return PICKLE_CACHE_DIR.joinpath(mangle_cmp_save_name(prog, opts))"
   ]
  },
  {
   "cell_type": "code",
   "execution_count": 13,
   "metadata": {},
   "outputs": [],
   "source": [
    "# DWARF: only parse with the debug build options\n",
    "# Ghidra: parse with all variations of build options\n",
    "# Cache the results in local pickle_cache directory, named based on the 'mangle' scheme\n",
    "\n",
    "reparse = False # should we re-parse even if we already parsed and cached a program?\n",
    "skip_parsing = True # should we skip the parsing? set to True if we already parsed & cached\n",
    "\n",
    "class ParseException(Exception):\n",
    "    pass\n",
    "\n",
    "def parse(parser: Callable, prog: Program, opts: BuildOptions) -> Optional[ProgramInfo]:\n",
    "    try:\n",
    "        return parser(prog.get_binary_path(opts))\n",
    "    except:\n",
    "        return None\n",
    "\n",
    "failed = []\n",
    "if not skip_parsing:\n",
    "    for prog in progs:\n",
    "        dwarf_debug_savepath = get_proginfo_save_path(\"dwarf\", prog, debug_opts)\n",
    "        if reparse or not dwarf_debug_savepath.exists():\n",
    "            dwarf_debug = parse(dwarf_parser, prog, debug_opts)\n",
    "            if dwarf_debug is None:\n",
    "                failed.append((\"dwarf\", prog.get_name(), debug_opts))\n",
    "            else:\n",
    "                save_pickle(dwarf_debug, dwarf_debug_savepath)\n",
    "\n",
    "        for opts in opts_sets:\n",
    "            ghidra_parse_savepath = get_proginfo_save_path(\"ghidra\", prog, opts)\n",
    "            ghidra_parse = parse(ghidra_parser, prog, opts)\n",
    "            if reparse or not dwarf_debug_savepath.exists():\n",
    "                if ghidra_parse is None:\n",
    "                    failed.append((\"ghidra\", prog.get_name(), opts))\n",
    "                else:\n",
    "                    save_pickle(ghidra_parse, ghidra_parse_savepath)"
   ]
  },
  {
   "cell_type": "code",
   "execution_count": 14,
   "metadata": {},
   "outputs": [],
   "source": [
    "# For each program & build options combination, compute & store comparison object\n",
    "\n",
    "recompare = False\n",
    "skip_comparisons = False\n",
    "\n",
    "failed = []\n",
    "if not skip_comparisons:\n",
    "    for prog in progs:\n",
    "        # load the DWARF ground-truth ProgramInfo\n",
    "        dwarf_proginfo = load_pickle(get_proginfo_save_path(\"dwarf\", prog, debug_opts))\n",
    "        assert(dwarf_proginfo is not None)\n",
    "\n",
    "        # for each set of compilation options, load the Ghidra decompiler ProgramInfo\n",
    "        # then compute & store the comparison object\n",
    "        for opts in opts_sets:\n",
    "            cmp_save_path = get_cmp_save_path(prog, opts)\n",
    "            if recompare or not cmp_save_path.exists():\n",
    "                ghidra_proginfo = load_pickle(get_proginfo_save_path(\"ghidra\", prog, opts))\n",
    "                assert(ghidra_proginfo is not None)\n",
    "                try:\n",
    "                    cmp = compare2(dwarf_proginfo, ghidra_proginfo)\n",
    "                    save_pickle(cmp, get_cmp_save_path(prog, opts))\n",
    "                except:\n",
    "                    failed.append((prog.get_name(), opts))"
   ]
  },
  {
   "cell_type": "code",
   "execution_count": 15,
   "metadata": {},
   "outputs": [
    {
     "name": "stdout",
     "output_type": "stream",
     "text": [
      "[]\n"
     ]
    }
   ],
   "source": [
    "print(failed)"
   ]
  }
 ],
 "metadata": {
  "kernelspec": {
   "display_name": "Python 3.8.10 ('.venv': venv)",
   "language": "python",
   "name": "python3"
  },
  "language_info": {
   "codemirror_mode": {
    "name": "ipython",
    "version": 3
   },
   "file_extension": ".py",
   "mimetype": "text/x-python",
   "name": "python",
   "nbconvert_exporter": "python",
   "pygments_lexer": "ipython3",
   "version": "3.8.10"
  },
  "orig_nbformat": 4,
  "vscode": {
   "interpreter": {
    "hash": "ebf8bf05a68ebde7d71715735c34f46ac9aa39a0c4d11ea58f3fb78ab998520e"
   }
  }
 },
 "nbformat": 4,
 "nbformat_minor": 2
}
