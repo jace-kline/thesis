{
 "cells": [
  {
   "cell_type": "code",
   "execution_count": 1,
   "metadata": {},
   "outputs": [],
   "source": [
    "import graphviz\n",
    "from lang import *"
   ]
  },
  {
   "cell_type": "markdown",
   "metadata": {},
   "source": [
    "## DSL\n",
    "\n",
    "This figure shows the classes/types defined in the DSL and the relationships between them."
   ]
  },
  {
   "cell_type": "code",
   "execution_count": 26,
   "metadata": {},
   "outputs": [
    {
     "data": {
      "text/plain": [
       "'figures/DSL.gv.pdf'"
      ]
     },
     "execution_count": 26,
     "metadata": {},
     "output_type": "execute_result"
    }
   ],
   "source": [
    "dsl = graphviz.Digraph(\"DSL\", filename=\"DSL.gv\", directory=\"figures\")\n",
    "dsl.graph_attr['rankdir'] = 'LR'\n",
    "\n",
    "dsl.node(\"ProgramInfo\")\n",
    "dsl.node(\"Variable[]\")\n",
    "dsl.node(\"Function[]\")\n",
    "dsl.node(\"AddressLiveRange[]\")\n",
    "dsl.node(\"Variable\")\n",
    "dsl.node(\"Function\")\n",
    "dsl.node(\"str\")\n",
    "dsl.node(\"DataType\")\n",
    "dsl.node(\"Address\")\n",
    "dsl.node(\"AddressLiveRange\")\n",
    "\n",
    "# ProgramInfo\n",
    "dsl.edge(\"ProgramInfo\", \"Variable[]\", label=\"globals\")\n",
    "dsl.edge(\"ProgramInfo\", \"Function[]\", label=\"functions\")\n",
    "\n",
    "# Lists\n",
    "dsl.edge(\"Variable[]\", \"Variable\", label=\"[i]\")\n",
    "dsl.edge(\"Function[]\", \"Function\", label=\"[i]\")\n",
    "dsl.edge(\"AddressLiveRange[]\", \"AddressLiveRange\", label=\"[i]\")\n",
    "\n",
    "# Function\n",
    "dsl.edge(\"Function\", \"str\", label=\"name\")\n",
    "dsl.edge(\"Function\", \"Variable[]\", label=\"params\")\n",
    "dsl.edge(\"Function\", \"Variable[]\", label=\"vars\")\n",
    "dsl.edge(\"Function\", \"Address\", label=\"startaddr\")\n",
    "dsl.edge(\"Function\", \"Address\", label=\"endaddr\")\n",
    "dsl.edge(\"Function\", \"DataType\", label=\"rettype\")\n",
    "\n",
    "# Variable\n",
    "dsl.edge(\"Variable\", \"str\", label=\"name\")\n",
    "dsl.edge(\"Variable\", \"DataType\", label=\"dtype\")\n",
    "dsl.edge(\"Variable\", \"AddressLiveRange[]\", label=\"liveranges\")\n",
    "\n",
    "# AddressLiveRange\n",
    "dsl.edge(\"AddressLiveRange\", \"Address\", label=\"addr\")\n",
    "dsl.edge(\"AddressLiveRange\", \"Address\", label=\"startpc\")\n",
    "dsl.edge(\"AddressLiveRange\", \"Address\", label=\"endpc\")\n",
    "\n",
    "# copy the terse version of this graph\n",
    "dsl_summarized = dsl.copy()\n",
    "dsl_summarized.name = \"DSL_summarized\"\n",
    "dsl_summarized.filename = \"DSL_summarized.gv\"\n",
    "dsl_summarized.graph_attr[\"rankdir\"] = \"TB\"\n",
    "\n",
    "# Address\n",
    "address_subclasses = (\n",
    "    \"AbsoluteAddress\",\n",
    "    \"RegisterAddress\",\n",
    "    \"RegisterOffsetAddress\",\n",
    "    \"StackAddress\"\n",
    ")\n",
    "\n",
    "# DataType\n",
    "datatype_subclasses = (\n",
    "    \"DataTypeArray\",\n",
    "    \"DataTypeFloat\",\n",
    "    \"DataTypeFunctionPrototype\",\n",
    "    \"DataTypeInt\",\n",
    "    \"DataTypePointer\",\n",
    "    \"DataTypeStruct\",\n",
    "    \"DataTypeUndefined\",\n",
    "    \"DataTypeUnion\",\n",
    "    \"DataTypeVoid\"\n",
    ")\n",
    "\n",
    "for subclass in address_subclasses:\n",
    "    dsl.edge(\"Address\", subclass, style=\"dashed\", dir=\"none\")\n",
    "\n",
    "for subclass in datatype_subclasses:\n",
    "    dsl.edge(\"DataType\", subclass, style=\"dashed\", dir=\"none\")\n",
    "\n",
    "dsl_summarized.view()\n",
    "dsl.view()"
   ]
  },
  {
   "cell_type": "code",
   "execution_count": null,
   "metadata": {},
   "outputs": [],
   "source": []
  }
 ],
 "metadata": {
  "kernelspec": {
   "display_name": "Python 3.8.10 ('venv': venv)",
   "language": "python",
   "name": "python3"
  },
  "language_info": {
   "codemirror_mode": {
    "name": "ipython",
    "version": 3
   },
   "file_extension": ".py",
   "mimetype": "text/x-python",
   "name": "python",
   "nbconvert_exporter": "python",
   "pygments_lexer": "ipython3",
   "version": "3.8.10"
  },
  "orig_nbformat": 4,
  "vscode": {
   "interpreter": {
    "hash": "f6e7b021119d7a5dd422a2c13e3c0fbb64a88bb4180f02b3942dd20f71a59963"
   }
  }
 },
 "nbformat": 4,
 "nbformat_minor": 2
}
